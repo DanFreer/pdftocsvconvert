{
 "cells": [
  {
   "cell_type": "markdown",
   "metadata": {},
   "source": [
    "The following is how i went about creating a csv from pdf, cleaning, and adjusting the data into a usable set."
   ]
  },
  {
   "cell_type": "code",
   "execution_count": null,
   "metadata": {},
   "outputs": [],
   "source": [
    "# Run this command on command prompt in your python folder 'pip install tabula-py', it will install Tabula Library\n",
    "# Run this code to convert PDF to CSV\n",
    "\n",
    "# Import the required Module\n",
    "import tabula\n",
    "\n",
    "# Read a PDF File, use the tabula ap to find the area to map if you dont know, have to have selectable text to scan to a csv\n",
    "df = tabula.read_pdf(\"file.pdf\", pages=[1], stream=True, area=(64.335, 33.886, 817.692, 736.168))\n",
    "\n",
    "#print to make sure import occured well\n",
    "print(df)\n",
    "\n",
    "# convert PDF into CSV\n",
    "#area=(change to match your paper, use tabula app to find)\n",
    "tabula.convert_into(\"file.pdf\",\n",
    "                    \"file.csv\", output_format=\"csv\", pages=[1], stream=True, area=(64.335, 33.886, 817.692, 736.168))"
   ]
  },
  {
   "cell_type": "markdown",
   "metadata": {},
   "source": [
    "This .py reorganizes the data into 2 lists creating a header that is shared in the later files for concat'ing"
   ]
  },
  {
   "cell_type": "code",
   "execution_count": null,
   "metadata": {},
   "outputs": [],
   "source": [
    "import csv\n",
    "\n",
    "#open csv\n",
    "r = csv.reader(open('file.csv'))\n",
    "\n",
    "#add as list\n",
    "lines = list(r)\n",
    "\n",
    "#create header\n",
    "a_list = [\"Date\", \"Net Earnings\", \"Rides\", \"Booked Miles\", \"Booked Time\", \"Online Time\",\n",
    "          \"Earnings\", \"Ride Earnings\", \"Tips\"]\n",
    "\n",
    "#create row for wide data\n",
    "b_list = [lines[0][0], lines[4][0], lines[6][1], lines[6][2], lines[9][1], lines[9][2],\n",
    "          lines[11][2], lines[12][2], lines[14][2]]\n",
    "\n",
    "#write to known csv file with name or overwrite if not worried about data\n",
    "with open('newcsvfile.csv', 'w', encoding='UTF8') as f:\n",
    "    writer = csv.writer(f)\n",
    "    writer.writerow(a_list)\n",
    "    writer.writerow(b_list)"
   ]
  },
  {
   "cell_type": "markdown",
   "metadata": {},
   "source": [
    "concat files to combine multiple csv files into 1, make sure data is all the same first"
   ]
  },
  {
   "cell_type": "code",
   "execution_count": null,
   "metadata": {},
   "outputs": [],
   "source": [
    "import pandas as pd\n",
    "import glob\n",
    "import os\n",
    "\n",
    "# merging the files\n",
    "joined_files = os.path.join(\"path\", \"lps*.csv\")\n",
    "\n",
    "# a list of all the joined files is returned\n",
    "joined_list = glob.glob(joined_files)\n",
    "\n",
    "# finally, the files are joined\n",
    "df = pd.concat(map(pd.read_csv, joined_list), ignore_index=True)\n",
    "\n",
    "#see if data was updated correctly\n",
    "print(df.head())\n",
    "\n",
    "#save as csv file\n",
    "df.to_csv('lps_all.csv')\n"
   ]
  },
  {
   "cell_type": "markdown",
   "metadata": {},
   "source": [
    "at the stage, just load into w/e software or make direct changes by hand as the data should be organized and cleaned up."
   ]
  }
 ],
 "metadata": {
  "kernelspec": {
   "display_name": "Python 3.10.6 64-bit",
   "language": "python",
   "name": "python3"
  },
  "language_info": {
   "codemirror_mode": {
    "name": "ipython",
    "version": 3
   },
   "file_extension": ".py",
   "mimetype": "text/x-python",
   "name": "python",
   "nbconvert_exporter": "python",
   "pygments_lexer": "ipython3",
   "version": "3.10.6"
  },
  "orig_nbformat": 4,
  "vscode": {
   "interpreter": {
    "hash": "6efdec6207c519eb5705ca0f6ae98c7fe90f88521de508e5e57818588e280d91"
   }
  }
 },
 "nbformat": 4,
 "nbformat_minor": 2
}
